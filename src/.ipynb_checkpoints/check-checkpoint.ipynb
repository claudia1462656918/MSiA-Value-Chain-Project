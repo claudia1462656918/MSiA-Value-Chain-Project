{
 "cells": [
  {
   "cell_type": "code",
   "execution_count": 399,
   "metadata": {},
   "outputs": [
    {
     "data": {
      "text/plain": [
       "<module 'evaluate_model' from '/Users/xulinxin/Desktop/MSiA 423 Value Chain/Project/MSiA-Value-Chain-Project/src/evaluate_model.py'>"
      ]
     },
     "execution_count": 399,
     "metadata": {},
     "output_type": "execute_result"
    }
   ],
   "source": [
    "from importlib import reload\n",
    "\n",
    "import generate_features as gf\n",
    "import train_model as tm\n",
    "import score_model as sm\n",
    "import evaluate_model as em\n",
    "\n",
    "reload(gf)\n",
    "reload(tm)\n",
    "reload(sm)\n",
    "reload(em)"
   ]
  },
  {
   "cell_type": "code",
   "execution_count": 160,
   "metadata": {},
   "outputs": [],
   "source": [
    "import pandas as pd \n",
    "a= pd.read_csv('bank.csv')"
   ]
  },
  {
   "cell_type": "code",
   "execution_count": 164,
   "metadata": {},
   "outputs": [],
   "source": [
    "## test for generate_features\n",
    "c1 = ['Unnamed: 0', 'duration']\n",
    "c2 = ['job']\n",
    "df1 = a.copy(deep=True)\n",
    "df3 = gf.additional_processing(df2, c2)\n",
    "df4 = gf.balance_class(df3)\n",
    "# df5 = gf.reduce_no_of_class(df4)\n",
    "# df = gf.convert_types(df5)"
   ]
  },
  {
   "cell_type": "code",
   "execution_count": null,
   "metadata": {},
   "outputs": [],
   "source": []
  },
  {
   "cell_type": "code",
   "execution_count": 31,
   "metadata": {},
   "outputs": [],
   "source": [
    "hold1 = df4.age"
   ]
  },
  {
   "cell_type": "code",
   "execution_count": 32,
   "metadata": {},
   "outputs": [],
   "source": [
    "df5 = gf.reduce_no_of_class(df4)\n",
    "hold2 = df5.age"
   ]
  },
  {
   "cell_type": "code",
   "execution_count": 48,
   "metadata": {},
   "outputs": [
    {
     "data": {
      "text/plain": [
       "Index(['age', 'job', 'marital', 'education', 'default', 'balance', 'housing',\n",
       "       'loan', 'contact', 'day', 'month', 'campaign', 'pdays', 'previous',\n",
       "       'poutcome', 'y'],\n",
       "      dtype='object')"
      ]
     },
     "execution_count": 48,
     "metadata": {},
     "output_type": "execute_result"
    }
   ],
   "source": [
    "# c1 = df1['age'].quantile(1/3)\n",
    "# c2 = df1['age'].quantile(2/3)\n",
    "# print(str(c1)+\" \"+str(c2))\n",
    "# low: < 35--1\n",
    "# medium: 35<=x<=45--0\n",
    "# high: >45--2\n",
    "df4.head(2)\n",
    "set(df4.previous)\n",
    "df4.columns"
   ]
  },
  {
   "cell_type": "code",
   "execution_count": null,
   "metadata": {},
   "outputs": [],
   "source": []
  },
  {
   "cell_type": "code",
   "execution_count": 33,
   "metadata": {},
   "outputs": [
    {
     "data": {
      "text/plain": [
       "{0, 1, 2}"
      ]
     },
     "execution_count": 33,
     "metadata": {},
     "output_type": "execute_result"
    }
   ],
   "source": [
    "df = gf.convert_types(df5)\n",
    "hold3 = df.age\n",
    "set(hold3)"
   ]
  },
  {
   "cell_type": "code",
   "execution_count": 7,
   "metadata": {},
   "outputs": [
    {
     "data": {
      "text/plain": [
       "{0, 1, 2}"
      ]
     },
     "execution_count": 7,
     "metadata": {},
     "output_type": "execute_result"
    }
   ],
   "source": [
    "df.head()\n",
    "#df.columns\n",
    "df.describe()\n",
    "df.columns\n",
    "set(df.month)"
   ]
  },
  {
   "cell_type": "code",
   "execution_count": 122,
   "metadata": {},
   "outputs": [
    {
     "data": {
      "text/plain": [
       "XGBClassifier(base_score=0.5, booster='gbtree', colsample_bylevel=1,\n",
       "       colsample_bytree=1, gamma=0, learning_rate=0.05, max_delta_step=0,\n",
       "       max_depth=3, min_child_weight=1, missing=None, n_estimators=300,\n",
       "       n_jobs=1, nthread=None, objective='binary:logistic', random_state=0,\n",
       "       reg_alpha=0, reg_lambda=1, scale_pos_weight=1, seed=None,\n",
       "       silent=True, subsample=1)"
      ]
     },
     "execution_count": 122,
     "metadata": {},
     "output_type": "execute_result"
    }
   ],
   "source": [
    "import xgboost\n",
    "import pickle\n",
    "\n",
    "\n",
    "method = 'xgboost'\n",
    "max_depth = 3\n",
    "n_estimators = 300 \n",
    "learning_rate = 0.05\n",
    "save_tmo = 'bank-prediction.pkl'\n",
    "\n",
    "kwargs = {\"get_target\":{'target':'y'}, \n",
    "          'split_data': {'train_size':0.7, 'test_size':0.3, 'random_state': 42,\n",
    "                         'save_split_prefix': 'bank'},\n",
    "          'choose_features':{'features_to_use': ['age', 'job', 'marital', 'education', \n",
    "                                                 'default', 'balance', 'housing','loan', \n",
    "                                                 'contact', 'day', 'month', 'campaign', 'pdays', 'previous','poutcome']}}\n",
    "\n",
    "tm.train_model(df, max_depth, n_estimators, learning_rate, method, save_tmo, **kwargs)"
   ]
  },
  {
   "cell_type": "code",
   "execution_count": 153,
   "metadata": {},
   "outputs": [
    {
     "data": {
      "text/html": [
       "<div>\n",
       "<style scoped>\n",
       "    .dataframe tbody tr th:only-of-type {\n",
       "        vertical-align: middle;\n",
       "    }\n",
       "\n",
       "    .dataframe tbody tr th {\n",
       "        vertical-align: top;\n",
       "    }\n",
       "\n",
       "    .dataframe thead th {\n",
       "        text-align: right;\n",
       "    }\n",
       "</style>\n",
       "<table border=\"1\" class=\"dataframe\">\n",
       "  <thead>\n",
       "    <tr style=\"text-align: right;\">\n",
       "      <th></th>\n",
       "      <th>pred_prob</th>\n",
       "      <th>pred</th>\n",
       "    </tr>\n",
       "  </thead>\n",
       "  <tbody>\n",
       "    <tr>\n",
       "      <th>0</th>\n",
       "      <td>0.409819</td>\n",
       "      <td>0</td>\n",
       "    </tr>\n",
       "    <tr>\n",
       "      <th>1</th>\n",
       "      <td>0.225155</td>\n",
       "      <td>0</td>\n",
       "    </tr>\n",
       "    <tr>\n",
       "      <th>2</th>\n",
       "      <td>0.511872</td>\n",
       "      <td>1</td>\n",
       "    </tr>\n",
       "    <tr>\n",
       "      <th>3</th>\n",
       "      <td>0.204055</td>\n",
       "      <td>0</td>\n",
       "    </tr>\n",
       "    <tr>\n",
       "      <th>4</th>\n",
       "      <td>0.240039</td>\n",
       "      <td>0</td>\n",
       "    </tr>\n",
       "  </tbody>\n",
       "</table>\n",
       "</div>"
      ],
      "text/plain": [
       "   pred_prob  pred\n",
       "0   0.409819     0\n",
       "1   0.225155     0\n",
       "2   0.511872     1\n",
       "3   0.204055     0\n",
       "4   0.240039     0"
      ]
     },
     "execution_count": 153,
     "metadata": {},
     "output_type": "execute_result"
    }
   ],
   "source": [
    "## score model\n",
    "path_to_tmo = 'bank-prediction.pkl'\n",
    "cutoff = 0.5\n",
    "save_scores = 'bank-test-scores.csv'\n",
    "features = ['age', 'job', 'marital', 'education', 'default', 'balance', \n",
    "            'housing','loan', 'contact', 'day', 'month', 'campaign', \n",
    "            'pdays', 'previous','poutcome']\n",
    "\n",
    "\n",
    "    \n",
    "kwargs = {\"choose_features\": {'features_to_use': ['age', 'job', 'marital', 'education', \n",
    "                                                  'default', 'balance', 'housing','loan', \n",
    "                                                  'contact', 'day', 'month', 'campaign', 'pdays', 'previous','poutcome']}}\n",
    "\n",
    "\n",
    "\n",
    "y_predicted = sm.score_model(df, path_to_tmo, cutoff, save_scores, **kwargs)\n",
    "y_predicted.head()"
   ]
  },
  {
   "cell_type": "code",
   "execution_count": 158,
   "metadata": {},
   "outputs": [
    {
     "data": {
      "text/html": [
       "<div>\n",
       "<style scoped>\n",
       "    .dataframe tbody tr th:only-of-type {\n",
       "        vertical-align: middle;\n",
       "    }\n",
       "\n",
       "    .dataframe tbody tr th {\n",
       "        vertical-align: top;\n",
       "    }\n",
       "\n",
       "    .dataframe thead th {\n",
       "        text-align: right;\n",
       "    }\n",
       "</style>\n",
       "<table border=\"1\" class=\"dataframe\">\n",
       "  <thead>\n",
       "    <tr style=\"text-align: right;\">\n",
       "      <th></th>\n",
       "      <th>pred_prob</th>\n",
       "      <th>pred</th>\n",
       "    </tr>\n",
       "  </thead>\n",
       "  <tbody>\n",
       "    <tr>\n",
       "      <th>0</th>\n",
       "      <td>0.946918</td>\n",
       "      <td>1</td>\n",
       "    </tr>\n",
       "    <tr>\n",
       "      <th>1</th>\n",
       "      <td>0.664863</td>\n",
       "      <td>1</td>\n",
       "    </tr>\n",
       "    <tr>\n",
       "      <th>2</th>\n",
       "      <td>0.237290</td>\n",
       "      <td>0</td>\n",
       "    </tr>\n",
       "    <tr>\n",
       "      <th>3</th>\n",
       "      <td>0.927766</td>\n",
       "      <td>1</td>\n",
       "    </tr>\n",
       "    <tr>\n",
       "      <th>4</th>\n",
       "      <td>0.789817</td>\n",
       "      <td>1</td>\n",
       "    </tr>\n",
       "  </tbody>\n",
       "</table>\n",
       "</div>"
      ],
      "text/plain": [
       "   pred_prob  pred\n",
       "0   0.946918     1\n",
       "1   0.664863     1\n",
       "2   0.237290     0\n",
       "3   0.927766     1\n",
       "4   0.789817     1"
      ]
     },
     "execution_count": 158,
     "metadata": {},
     "output_type": "execute_result"
    }
   ],
   "source": [
    "with open(path_to_tmo, \"rb\") as f:\n",
    "        model = pickle.load(f)\n",
    "\n",
    "X = pd.read_csv('bank-test-features.csv')\n",
    "\n",
    "\n",
    "# just get the probability of customers buying the product, initially 2 columns, one is for not buy, one is for buy \n",
    "ypred_proba_test = model.predict_proba(X)[:,1]\n",
    "#print(model.predict_proba(X))\n",
    "y_predicted = pd.DataFrame(ypred_proba_test)\n",
    "# name the probability column of the class who does want to buy the product  \n",
    "y_predicted.columns = ['pred_prob']\n",
    "y_predicted['pred'] = [1 if i>0.5 else 0 for i in ypred_proba_test]\n",
    "y_predicted.head()"
   ]
  },
  {
   "cell_type": "code",
   "execution_count": 132,
   "metadata": {},
   "outputs": [],
   "source": [
    "# [y if y not in b else other_value for y in a]\n",
    "y_predicted['pred']  = [1 if i>0.5 else 0 for i in ypred_proba_test]\n",
    "# y_predicted"
   ]
  },
  {
   "cell_type": "code",
   "execution_count": 49,
   "metadata": {},
   "outputs": [
    {
     "name": "stdout",
     "output_type": "stream",
     "text": [
      "313\n",
      "313\n",
      "729\n",
      "729\n",
      "1042\n"
     ]
    }
   ],
   "source": [
    "x_test = pd.read_csv('bank-test-features.csv')\n",
    "x_train = pd.read_csv('bank-train-features.csv')\n",
    "y_train = pd.read_csv('bank-train-targets.csv')\n",
    "y_test = pd.read_csv('bank-test-targets.csv')\n",
    "y_predicted = pd.read_csv('bank-test-scores.csv')\n",
    "\n",
    "\n",
    "print(len(x_test))\n",
    "print(len(y_test))\n",
    "print(len(x_train))\n",
    "print(len(y_train))\n",
    "print(len(y_predicted))"
   ]
  },
  {
   "cell_type": "code",
   "execution_count": 15,
   "metadata": {},
   "outputs": [
    {
     "name": "stdout",
     "output_type": "stream",
     "text": [
      "                  Predicted: Negative  Predicted: Positive\n",
      "Actual: Negative                  110                   57\n",
      "Actual: Positive                   53                   93\n",
      "\n",
      "\n",
      "        auc  accuracy        f1\n",
      "0  0.894529  0.848562  0.828378\n"
     ]
    }
   ],
   "source": [
    "## evaluate_model\n",
    "\n",
    "## scrore_model.py: when running_score, it first splits the data and then use score_model\n",
    "y_predicted = sm.score_model(x_test, path_to_tmo, cutoff, **kwargs)\n",
    "#y_predicted = y_predicted.iloc[0:313]\n",
    "kwargs = {'metrics': ['auc', 'accuracy', 'f1_score']}\n",
    "save_evaluation = 'model-evaluation.csv'\n",
    "confusion_matrix = em.evaluate_model(y_test, y_predicted, save_evaluation, **kwargs)\n"
   ]
  },
  {
   "cell_type": "code",
   "execution_count": 56,
   "metadata": {},
   "outputs": [
    {
     "data": {
      "text/plain": [
       "Index(['age', 'job', 'marital', 'education', 'default', 'balance', 'housing',\n",
       "       'loan', 'contact', 'day', 'month', 'campaign', 'pdays', 'previous',\n",
       "       'poutcome'],\n",
       "      dtype='object')"
      ]
     },
     "execution_count": 56,
     "metadata": {},
     "output_type": "execute_result"
    }
   ],
   "source": [
    "x_test.columns"
   ]
  },
  {
   "cell_type": "code",
   "execution_count": 86,
   "metadata": {},
   "outputs": [],
   "source": [
    "import pickle\n",
    "import pandas as pd\n",
    "import numpy as np\n",
    "row = [0,1,2,3,1,0,1,2,3,1,0,1,0,1,0]\n",
    "xgb = pickle.load(open(\"bank-prediction.pkl\",\"rb\"))"
   ]
  },
  {
   "cell_type": "code",
   "execution_count": null,
   "metadata": {},
   "outputs": [],
   "source": []
  },
  {
   "cell_type": "markdown",
   "metadata": {},
   "source": [
    "### UNIT TEST "
   ]
  },
  {
   "cell_type": "code",
   "execution_count": 203,
   "metadata": {},
   "outputs": [
    {
     "data": {
      "text/plain": [
       "<module 'evaluate_model' from '/Users/xulinxin/Desktop/MSiA 423 Value Chain/Project/MSiA-Value-Chain-Project/src/evaluate_model.py'>"
      ]
     },
     "execution_count": 203,
     "metadata": {},
     "output_type": "execute_result"
    }
   ],
   "source": [
    "import pandas as pd\n",
    "import numpy as np\n",
    "import generate_features as gf\n",
    "import train_model as tm\n",
    "import score_model as sm\n",
    "import evaluate_model as em\n",
    "\n",
    "reload(gf)\n",
    "reload(tm)\n",
    "reload(sm)\n",
    "reload(em)"
   ]
  },
  {
   "cell_type": "code",
   "execution_count": 227,
   "metadata": {},
   "outputs": [
    {
     "name": "stdout",
     "output_type": "stream",
     "text": [
      "Test for get_target function PASSED!\n"
     ]
    }
   ],
   "source": [
    "def test_get_target():\n",
    "    \"\"\" testing whether we get the value of target \"\"\"\n",
    "\n",
    "    # data frame input \n",
    "    df_inputs ={'x':[1,2,3],\n",
    "                'y':[4,5,6]\n",
    "                }\n",
    "    df_testing = pd.DataFrame(data=df_inputs)\n",
    "\n",
    "    # actual output\n",
    "    actual = gf.get_target(df_testing,'y')\n",
    "    \n",
    "    # expected output\n",
    "    df_expected = np.array([4,5,6])\n",
    "    expected = df_expected\n",
    "\n",
    "    try:\n",
    "        assert isinstance(expected, np.ndarray)\n",
    "        # check expected output\n",
    "        assert np.array_equal(actual,expected)\n",
    "        print('Test for get_target function PASSED!')\n",
    "    except:\n",
    "        print('Test for get_target function FAILED!')\n",
    "test_get_target()"
   ]
  },
  {
   "cell_type": "code",
   "execution_count": 226,
   "metadata": {},
   "outputs": [
    {
     "name": "stdout",
     "output_type": "stream",
     "text": [
      "Test for additional_processing function PASSED!\n"
     ]
    }
   ],
   "source": [
    "def test_additional_processing():\n",
    "    \"\"\"Testing additional_processing function.\"\"\"\n",
    "\n",
    "    # data frame inputs\n",
    "    df_inputs = {\n",
    "        \"job\": ['admin.','blue-collar','entrepreneur'],\n",
    "        \"age\": [33,26,45]\n",
    "    }\n",
    "    df_testing = pd.DataFrame(data=df_inputs)\n",
    "\n",
    "    # actual output\n",
    "    actual = gf.additional_processing(df_testing, additional_processing_column='job')\n",
    "\n",
    "    # expected output\n",
    "    df_expected = {\n",
    "        \"job\": ['admin','blue-collar','entrepreneur'],\n",
    "        \"age\": [33,26,45]\n",
    "    }\n",
    "    expected = pd.DataFrame(data=df_expected)\n",
    "\n",
    "    try:\n",
    "        # check type\n",
    "        assert isinstance(expected, pd.DataFrame)\n",
    "\n",
    "        # check expected output\n",
    "        assert actual.equals(expected)\n",
    "        print('Test for additional_processing function PASSED!')\n",
    "    except:\n",
    "        print('Test for additional_processing function FAILED!')\n",
    "        \n",
    "test_additional_processing()"
   ]
  },
  {
   "cell_type": "code",
   "execution_count": 360,
   "metadata": {},
   "outputs": [
    {
     "name": "stdout",
     "output_type": "stream",
     "text": [
      "Test for balance_class function PASSED!\n"
     ]
    }
   ],
   "source": [
    "def test_balance_class():\n",
    "    \"\"\"testing whether we balance the data using the downsampling method\"\"\"\n",
    "    # data frame input \n",
    "    df_inputs ={'x':[1,2,3,4,5],\n",
    "                'y':['yes','no','no','yes','no']\n",
    "                }\n",
    "    df_testing = pd.DataFrame(data=df_inputs)\n",
    "\n",
    "    # actual output\n",
    "    actual = gf.balance_class(df_testing)\n",
    "    actual = actual.reindex(index=range(0,4))\n",
    "    \n",
    "    # expected output\n",
    "    df_expected = {\n",
    "        'x':[1,2,3,4],\n",
    "        'y': ['yes','no','no','yes']\n",
    "    }\n",
    "\n",
    "    expected = pd.DataFrame(data=df_expected)\n",
    "    \n",
    "    try:\n",
    "        # check type\n",
    "        assert isinstance(expected, pd.DataFrame)\n",
    "\n",
    "        # check expected output\n",
    "        assert actual.equals(expected)\n",
    "        print('Test for balance_class function PASSED!')\n",
    "    except:\n",
    "        print('Test for balance_class function FAILED!')\n",
    "        \n",
    "test_balance_class()"
   ]
  },
  {
   "cell_type": "code",
   "execution_count": 289,
   "metadata": {},
   "outputs": [
    {
     "name": "stdout",
     "output_type": "stream",
     "text": [
      "Test for reduce_no_of_class function PASSED!\n"
     ]
    }
   ],
   "source": [
    "def test_reduce_no_of_class():\n",
    "    \"\"\"testing whether we balance the data using the downsampling method\"\"\"\n",
    "    # data frame input \n",
    "    df_inputs ={\n",
    "                'age':[1,2,3,4,5,6,7],\n",
    "                'month':['jan','feb','mar','apr','may','jun','july'],\n",
    "                'month1':['jan','feb','mar','apr','may','jun','july'],\n",
    "                'month2':['jan','feb','mar','apr','may','jun','july'],\n",
    "                'month3':['jan','feb','mar','apr','may','jun','july'],\n",
    "                'month4':['jan','feb','mar','apr','may','jun','july'],\n",
    "                'month5':['jan','feb','mar','apr','may','jun','july'],\n",
    "                'month6':['jan','feb','mar','apr','may','jun','july'],\n",
    "                'month7':['jan','feb','mar','apr','may','jun','july'],\n",
    "                'month8':['jan','feb','mar','apr','may','jun','july'],\n",
    "                'month_new':['jan','feb','mar','apr','may','jun','july']\n",
    "                }\n",
    "    df_testing = pd.DataFrame(data=df_inputs)\n",
    "    \n",
    "    # actual output\n",
    "    actual = gf.reduce_no_of_class(df_testing)\n",
    "    \n",
    "    # expected output\n",
    "    df_expected = {\n",
    "        'age':['low','low','medium','medium','high','high','high'],\n",
    "        'month':['jan','feb','mar','apr','may','jun','july'],\n",
    "        'month1':['jan','feb','mar','apr','may','jun','july'],\n",
    "        'month2':['jan','feb','mar','apr','may','jun','july'],\n",
    "        'month3':['jan','feb','mar','apr','may','jun','july'],\n",
    "        'month4':['jan','feb','mar','apr','may','jun','july'],\n",
    "        'month5':['jan','feb','mar','apr','may','jun','july'],\n",
    "        'month6':['jan','feb','mar','apr','may','jun','july'],\n",
    "        'month7':['jan','feb','mar','apr','may','jun','july'],\n",
    "        'month8':['jan','feb','mar','apr','may','jun','july'],\n",
    "        'month_new':['low','medium','low','medium','high','high','low']\n",
    "    }\n",
    "\n",
    "    expected = pd.DataFrame(data=df_expected)\n",
    "    \n",
    "    try:\n",
    "        # check type\n",
    "        assert isinstance(expected, pd.DataFrame)\n",
    "\n",
    "        # check expected output\n",
    "        assert actual.equals(expected)\n",
    "        print('Test for reduce_no_of_class function PASSED!')\n",
    "    except:\n",
    "        print('Test for reduce_no_of_class function FAILED!')\n",
    "        \n",
    "test_reduce_no_of_class()"
   ]
  },
  {
   "cell_type": "code",
   "execution_count": 373,
   "metadata": {},
   "outputs": [
    {
     "name": "stdout",
     "output_type": "stream",
     "text": [
      "Test for convert_types function PASSED!\n"
     ]
    }
   ],
   "source": [
    "def test_convert_types():\n",
    "    \"\"\"Testing convert_types function.\"\"\"\n",
    "\n",
    "    # data frame inputs\n",
    "    df_inputs = {\n",
    "         \"job\": ['admin','blue-collar','admin'],\n",
    "        \"contact\": ['cellular', 'telephone', 'unknown']\n",
    "    }\n",
    "    df_testing = pd.DataFrame(data=df_inputs)\n",
    "\n",
    "    # actual output\n",
    "    actual = gf.convert_types(df_testing)\n",
    "\n",
    "    # expected output\n",
    "    df_expected = {\n",
    "        \"job\": [0,1,0],\n",
    "        \"contact\": [0,1,2]\n",
    "    }\n",
    "    expected = pd.DataFrame(data=df_expected)\n",
    "\n",
    "    try:\n",
    "        # check type\n",
    "        assert isinstance(expected, pd.DataFrame)\n",
    "        \n",
    "        # check expected output\n",
    "        assert actual.equals(expected)\n",
    "        print('Test for convert_types function PASSED!')\n",
    "    except:\n",
    "        print('Test for convert_types function FAILED!')\n",
    "        \n",
    "test_convert_types()"
   ]
  },
  {
   "cell_type": "code",
   "execution_count": 296,
   "metadata": {},
   "outputs": [
    {
     "name": "stdout",
     "output_type": "stream",
     "text": [
      "Test for choose_features function PASSED!\n"
     ]
    }
   ],
   "source": [
    "def test_choose_features():\n",
    "    \"\"\"Testing choose_features function.\"\"\"\n",
    "\n",
    "    # data frame inputs\n",
    "    df_inputs = {\n",
    "         \"job\": ['admin','blue-collar','admin'],\n",
    "        \"contact\": ['cellular', 'telephone', 'unknown'],\n",
    "        \"y\":[1,2,3]\n",
    "    }\n",
    "    df_testing = pd.DataFrame(data=df_inputs)\n",
    "\n",
    "    # actual output\n",
    "    features_to_use = ['job']\n",
    "    target = 'y'\n",
    "\n",
    "    actual = gf.choose_features(df_testing, features_to_use,target )\n",
    "\n",
    "    # expected output\n",
    "    df_expected = {\n",
    "        \"job\": ['admin','blue-collar','admin'],\n",
    "        \"y\":[1,2,3]\n",
    "    }\n",
    "    expected = pd.DataFrame(data=df_expected)\n",
    "\n",
    "    try:\n",
    "        # check type\n",
    "        assert isinstance(expected, pd.DataFrame)\n",
    "        \n",
    "        # check expected output\n",
    "        assert actual.equals(expected)\n",
    "        print('Test for choose_features function PASSED!')\n",
    "    except:\n",
    "        print('Test for choose_features function FAILED!')\n",
    "\n",
    "\n",
    "test_choose_features()"
   ]
  },
  {
   "cell_type": "code",
   "execution_count": 334,
   "metadata": {},
   "outputs": [
    {
     "name": "stdout",
     "output_type": "stream",
     "text": [
      "                  Predicted: Negative  Predicted: Positive\n",
      "Actual: Negative                    0                    2\n",
      "Actual: Positive                    0                    1\n",
      "\n",
      "\n",
      "   auc  accuracy   f1\n",
      "0  1.0  0.333333  0.5\n",
      "Test for evaluate_model function PASSED!\n"
     ]
    }
   ],
   "source": [
    "def test_evaluate_model():\n",
    "    \"\"\"Testing evaluate_model function.\"\"\"\n",
    "\n",
    "    # data frame inputs\n",
    "    df_y_true = pd.DataFrame({\n",
    "     \"y\": [1,0,0]})\n",
    "\n",
    "    y_predicted = pd.DataFrame({\n",
    "        'prob':[0.7,0.6,0.4],\n",
    "        'label':[1,1,1]\n",
    "    })\n",
    "    kwargs = {'metrics': ['auc','accuracy', 'f1_score']}\n",
    "    actual = em.evaluate_model(df_y_true, y_predicted,**kwargs )\n",
    "\n",
    "    # expected output\n",
    "    df_expected = {\n",
    "        \"auc\": [1.0],\n",
    "        \"accuracy\":[1/3],\n",
    "        'f1':[0.5]\n",
    "    }\n",
    "    expected = pd.DataFrame(data=df_expected)\n",
    "    \n",
    "    try:\n",
    "        # check type\n",
    "        assert isinstance(expected, pd.DataFrame)\n",
    "        # check expected output\n",
    "        assert actual.equals(expected)\n",
    "        print('Test for evaluate_model function PASSED!')\n",
    "    except:\n",
    "        print('Test for evaluate_model function FAILED!')\n",
    "\n",
    "test_evaluate_model()\n",
    "    "
   ]
  },
  {
   "cell_type": "code",
   "execution_count": 372,
   "metadata": {},
   "outputs": [
    {
     "name": "stdout",
     "output_type": "stream",
     "text": [
      "Test for evaluate_model function PASSED!\n"
     ]
    }
   ],
   "source": [
    "def test_split_data():\n",
    "    \"\"\"a fucntion to test split_data()\"\"\"\n",
    "    \n",
    "    # data frame inputs\n",
    "    X = pd.DataFrame({\n",
    "        \"x\": [1,2,3,4,5,6,7,8,9,10]})\n",
    "\n",
    "    y = pd.DataFrame({\n",
    "        'y':[11,12,13,14,15,16,17,18,19,20]\n",
    "        \n",
    "    })\n",
    "    kwargs = {'train_size':0.7, 'test_size':0.3, 'random_state': 42}\n",
    "    X,y = tm.split_data(X, y,**kwargs )\n",
    "\n",
    "    # expected output\n",
    "    x_train = pd.DataFrame({\n",
    "        \"x\": [1,8,3,10,5,4,7]})\n",
    "    x_test =  pd.DataFrame({\n",
    "            \"x\": [9,2,6]})\n",
    "    X_expected = {'train':x_train,'test':x_test}\n",
    "    X_expected['train']\n",
    "    X['train'] = X['train'].reset_index(drop=True)\n",
    "    \n",
    "    try:\n",
    "        # check type\n",
    "        assert isinstance(X_expected['train'], pd.DataFrame)\n",
    "        # check expected output\n",
    "        assert X_expected['train'].equals(X['train'])\n",
    "        print('Test for split_data function PASSED!')\n",
    "    except:\n",
    "        print('Test for split_data function FAILED!')\n",
    "    \n",
    "test_split_data()   "
   ]
  },
  {
   "cell_type": "code",
   "execution_count": 405,
   "metadata": {},
   "outputs": [
    {
     "name": "stdout",
     "output_type": "stream",
     "text": [
      "(729, 16)\n"
     ]
    },
    {
     "ename": "AttributeError",
     "evalue": "'NoneType' object has no attribute 'shape'",
     "output_type": "error",
     "traceback": [
      "\u001b[0;31m---------------------------------------------------------------------------\u001b[0m",
      "\u001b[0;31mAttributeError\u001b[0m                            Traceback (most recent call last)",
      "\u001b[0;32m<ipython-input-405-ece81f929baf>\u001b[0m in \u001b[0;36m<module>\u001b[0;34m()\u001b[0m\n\u001b[1;32m     14\u001b[0m \u001b[0;34m\u001b[0m\u001b[0m\n\u001b[1;32m     15\u001b[0m \u001b[0;34m\u001b[0m\u001b[0m\n\u001b[0;32m---> 16\u001b[0;31m \u001b[0mtest_train_model\u001b[0m\u001b[0;34m(\u001b[0m\u001b[0;34m)\u001b[0m\u001b[0;34m\u001b[0m\u001b[0m\n\u001b[0m",
      "\u001b[0;32m<ipython-input-405-ece81f929baf>\u001b[0m in \u001b[0;36mtest_train_model\u001b[0;34m()\u001b[0m\n\u001b[1;32m     11\u001b[0m               \u001b[0;34m'split_data'\u001b[0m\u001b[0;34m:\u001b[0m \u001b[0;34m{\u001b[0m\u001b[0;34m'train_size'\u001b[0m\u001b[0;34m:\u001b[0m\u001b[0;36m0.7\u001b[0m\u001b[0;34m,\u001b[0m \u001b[0;34m'test_size'\u001b[0m\u001b[0;34m:\u001b[0m\u001b[0;36m0.3\u001b[0m\u001b[0;34m,\u001b[0m \u001b[0;34m'random_state'\u001b[0m\u001b[0;34m:\u001b[0m \u001b[0;36m42\u001b[0m\u001b[0;34m}\u001b[0m\u001b[0;34m\u001b[0m\u001b[0m\n\u001b[1;32m     12\u001b[0m              }\n\u001b[0;32m---> 13\u001b[0;31m     \u001b[0mtm\u001b[0m\u001b[0;34m.\u001b[0m\u001b[0mtrain_model\u001b[0m\u001b[0;34m(\u001b[0m\u001b[0mdf\u001b[0m\u001b[0;34m,\u001b[0m \u001b[0mmethod\u001b[0m\u001b[0;34m,\u001b[0m \u001b[0;34m**\u001b[0m\u001b[0mkwargs\u001b[0m\u001b[0;34m)\u001b[0m\u001b[0;34m\u001b[0m\u001b[0m\n\u001b[0m\u001b[1;32m     14\u001b[0m \u001b[0;34m\u001b[0m\u001b[0m\n\u001b[1;32m     15\u001b[0m \u001b[0;34m\u001b[0m\u001b[0m\n",
      "\u001b[0;32m~/Desktop/MSiA 423 Value Chain/Project/MSiA-Value-Chain-Project/src/train_model.py\u001b[0m in \u001b[0;36mtrain_model\u001b[0;34m(df, method, save_tmo, **kwargs)\u001b[0m\n\u001b[1;32m    129\u001b[0m     \u001b[0mmodel\u001b[0m \u001b[0;34m=\u001b[0m \u001b[0mmethods\u001b[0m\u001b[0;34m[\u001b[0m\u001b[0mmethod\u001b[0m\u001b[0;34m]\u001b[0m\u001b[0;34m(\u001b[0m\u001b[0;34m**\u001b[0m\u001b[0mkwargs\u001b[0m\u001b[0;34m[\u001b[0m\u001b[0;34m\"params\"\u001b[0m\u001b[0;34m]\u001b[0m\u001b[0;34m)\u001b[0m\u001b[0;34m\u001b[0m\u001b[0m\n\u001b[1;32m    130\u001b[0m     \u001b[0mprint\u001b[0m\u001b[0;34m(\u001b[0m\u001b[0mX\u001b[0m\u001b[0;34m[\u001b[0m\u001b[0;34m'train'\u001b[0m\u001b[0;34m]\u001b[0m\u001b[0;34m.\u001b[0m\u001b[0mshape\u001b[0m\u001b[0;34m)\u001b[0m\u001b[0;34m\u001b[0m\u001b[0m\n\u001b[0;32m--> 131\u001b[0;31m     \u001b[0mprint\u001b[0m\u001b[0;34m(\u001b[0m\u001b[0my\u001b[0m\u001b[0;34m[\u001b[0m\u001b[0;34m'train'\u001b[0m\u001b[0;34m]\u001b[0m\u001b[0;34m.\u001b[0m\u001b[0mshape\u001b[0m\u001b[0;34m)\u001b[0m\u001b[0;34m\u001b[0m\u001b[0m\n\u001b[0m\u001b[1;32m    132\u001b[0m     \u001b[0;31m# Fit the model with the training data\u001b[0m\u001b[0;34m\u001b[0m\u001b[0;34m\u001b[0m\u001b[0m\n\u001b[1;32m    133\u001b[0m     \u001b[0mmodel\u001b[0m\u001b[0;34m.\u001b[0m\u001b[0mfit\u001b[0m\u001b[0;34m(\u001b[0m\u001b[0mX\u001b[0m\u001b[0;34m[\u001b[0m\u001b[0;34m\"train\"\u001b[0m\u001b[0;34m]\u001b[0m\u001b[0;34m,\u001b[0m \u001b[0my\u001b[0m\u001b[0;34m[\u001b[0m\u001b[0;34m\"train\"\u001b[0m\u001b[0;34m]\u001b[0m\u001b[0;34m)\u001b[0m\u001b[0;34m\u001b[0m\u001b[0m\n",
      "\u001b[0;31mAttributeError\u001b[0m: 'NoneType' object has no attribute 'shape'"
     ]
    }
   ],
   "source": [
    "reload(tm)\n",
    "\n",
    "\n",
    "def test_train_model():\n",
    "    \"\"\"test if output of train_model function is an instance of xgboost model class\"\"\"\n",
    "    \n",
    "    df = pd.read_csv('../data/bank_processed.csv')\n",
    "    method = 'xgboost'\n",
    "\n",
    "    kwargs = {'params':{\"max_depth\":3, 'n_estimators': 300,'learning_rate': 0.05},\n",
    "              'split_data': {'train_size':0.7, 'test_size':0.3, 'random_state': 42},\n",
    "              'get_target':y\n",
    "             }\n",
    "    tm.train_model(df, method, **kwargs)\n",
    "\n",
    "    \n",
    "test_train_model() "
   ]
  }
 ],
 "metadata": {
  "kernelspec": {
   "display_name": "Python 3",
   "language": "python",
   "name": "python3"
  },
  "language_info": {
   "codemirror_mode": {
    "name": "ipython",
    "version": 3
   },
   "file_extension": ".py",
   "mimetype": "text/x-python",
   "name": "python",
   "nbconvert_exporter": "python",
   "pygments_lexer": "ipython3",
   "version": "3.6.5"
  }
 },
 "nbformat": 4,
 "nbformat_minor": 2
}
